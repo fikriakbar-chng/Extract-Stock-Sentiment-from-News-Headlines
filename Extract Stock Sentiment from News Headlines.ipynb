{
 "cells": [
  {
   "cell_type": "markdown",
   "metadata": {
    "dc": {
     "key": "3"
    },
    "deletable": false,
    "editable": false,
    "run_control": {
     "frozen": true
    },
    "tags": [
     "context"
    ]
   },
   "source": [
    "## 1. Searching for gold inside HTML files\n",
    "<p>It used to take days for financial news to spread via radio, newspapers, and word of mouth. Now, in the age of the internet, it takes seconds. Did you know news articles are <em>automatically</em> being generated from figures and earnings call streams? Hedge funds and independent traders are using data science to process this wealth of information in the quest for profit.</p>\n",
    "<p>In this notebook, we will generate investing insight by applying <a href=\"https://en.wikipedia.org/wiki/Sentiment_analysis\">sentiment analysis</a> on financial news headlines from <a href=\"https://finviz.com\">FINVIZ.com</a>. Using this <a href=\"https://en.wikipedia.org/wiki/Natural_language_processing\">natural language processing</a> technique, we can understand the emotion behind the headlines and predict whether the market <em>feels</em> good or bad about a stock. It would then be possible to make educated guesses on how certain stocks will perform and trade accordingly. (And hopefully, make money!)</p>\n",
    "<p><img src=\"https://assets.datacamp.com/production/project_611/img/fb_headlines.png\" alt=\"Facebook headlines from FINVIZ.com\"></p>\n",
    "<p>Why headlines? And why from FINVIZ?</p>\n",
    "<ol>\n",
    "<li>Headlines, which have similar length, are easier to parse and group than full articles, which vary in length.</li>\n",
    "<li>FINVIZ has a list of trusted websites, and headlines from these sites tend to be more consistent in their jargon than those from independent bloggers. Consistent textual patterns will improve the sentiment analysis.</li>\n",
    "</ol>\n",
    "<p>As <a href=\"https://en.wikipedia.org/wiki/Web_scraping\">web scraping</a> requires data science ethics (sending a lot of traffic to a FINVIZ's servers isn't very nice), the HTML files for Facebook and Tesla at various points in time have been downloaded. Let's import these files into memory.</p>\n",
    "<p><strong>Disclaimer: Investing in the stock market involves risk and can lead to monetary loss. The content in this notebook is not to be taken as financial advice.</strong> </p>"
   ]
  },
  {
   "cell_type": "code",
   "execution_count": 1,
   "metadata": {
    "dc": {
     "key": "3"
    },
    "tags": [
     "sample_code"
    ]
   },
   "outputs": [],
   "source": [
    "# Import libraries\n",
    "from bs4 import BeautifulSoup\n",
    "import os\n",
    "\n",
    "html_tables = {}\n",
    "\n",
    "# For every table in the datasets folder...\n",
    "for table_name in os.listdir('datasets'):\n",
    "    #this is the path to the file. Don't touch!\n",
    "    table_path = f'datasets/{table_name}'\n",
    "    # Open as a python file in read-only mode\n",
    "    table_file = open(table_path, mode='r')\n",
    "    # Read the contents of the file into 'html'\n",
    "    html = BeautifulSoup(table_file)\n",
    "    # Find 'news-table' in the Soup and load it into 'html_table'\n",
    "    html_table = html.find(id='news-table')\n",
    "    # Add the table to our dictionary\n",
    "    html_tables[table_name] = html_table"
   ]
  },
  {
   "cell_type": "markdown",
   "metadata": {
    "dc": {
     "key": "10"
    },
    "deletable": false,
    "editable": false,
    "run_control": {
     "frozen": true
    },
    "tags": [
     "context"
    ]
   },
   "source": [
    "## 2. What is inside those files anyway?\n",
    "<p>We've grabbed the table that contains the headlines from each stock's HTML file, but before we start parsing those tables further, we need to understand how the data in that table is structured. We have a few options for this:</p>\n",
    "<ul>\n",
    "<li>Open the HTML file with a text editor (preferably one with syntax highlighting, like <a href=\"http://www.sublimetext.com/\">Sublime Text</a>) and explore it there</li>\n",
    "<li>Use your browser's <a href=\"https://addons.mozilla.org/en-US/firefox/addon/web-developer/\">webdev toolkit</a> to explore the HTML</li>\n",
    "<li>Explore the headlines table here in this notebook!</li>\n",
    "</ul>\n",
    "<p>Let's do the third option.</p>"
   ]
  },
  {
   "cell_type": "code",
   "execution_count": 2,
   "metadata": {
    "dc": {
     "key": "10"
    },
    "tags": [
     "sample_code"
    ]
   },
   "outputs": [
    {
     "name": "stdout",
     "output_type": "stream",
     "text": [
      "File number 1:\n",
      "Billionaire investor questions Elon Musk getting 'a pass' after bombshell tweets\n",
      "Sep-21-18 09:56PM  \n",
      "File number 2:\n",
      "Broadcoms Stock Looks Like a Winner\n",
      "09:30PM  \n",
      "File number 3:\n",
      "SHAREHOLDER ALERT:Â  Pomerantz Law Firm Reminds Shareholders with Losses on their Investment in Tesla, Inc. of Class Action Lawsuit and Upcoming Deadline  TSLA\n",
      "05:30PM  \n",
      "File number 4:\n",
      "Tesla's People Problem and the Inscrutable Musk: 2 Things That Make You Go Hmmm\n",
      "05:30PM  \n"
     ]
    }
   ],
   "source": [
    "# Read one single day of headlines \n",
    "tsla = html_tables['tsla_22sep.html']\n",
    "# Get all the table rows tagged in HTML with <tr> into 'tesla_tr'\n",
    "tsla_tr = tsla.findAll('tr')\n",
    "\n",
    "# For each row...\n",
    "for i, table_row in enumerate(tsla_tr):\n",
    "    # Read the text of the element 'a' into 'link_text'\n",
    "    link_text = table_row.a.get_text()\n",
    "    # Read the text of the element 'td' into 'data_text'\n",
    "    data_text = table_row.td.get_text()\n",
    "    # Print the count\n",
    "    print(f'File number {i+1}:')\n",
    "    # Print the contents of 'link_text' and 'data_text' \n",
    "    print(link_text)\n",
    "    print(data_text)\n",
    "    # The following exits the loop after four rows to prevent spamming the notebook, do not touch\n",
    "    if i == 3:\n",
    "        break"
   ]
  },
  {
   "cell_type": "markdown",
   "metadata": {
    "dc": {
     "key": "17"
    },
    "deletable": false,
    "editable": false,
    "run_control": {
     "frozen": true
    },
    "tags": [
     "context"
    ]
   },
   "source": [
    "## 3. Extra, extra! Extract the news headlines\n",
    "<p>As we saw above, the interesting data inside each table row (<code>&lt;tr&gt;</code>) is in the text inside the <code>&lt;td&gt;</code> and <code>&lt;a&gt;</code> tags. Let's now actually parse the data for <strong>all</strong> tables in a comfortable data structure.</p>"
   ]
  },
  {
   "cell_type": "code",
   "execution_count": 3,
   "metadata": {
    "dc": {
     "key": "17"
    },
    "tags": [
     "sample_code"
    ]
   },
   "outputs": [],
   "source": [
    "# Hold the parsed news into a list\n",
    "parsed_news = []\n",
    "# Iterate through the news\n",
    "for file_name, news_table in html_tables.items():\n",
    "    # Iterate through all tr tags in 'news_table'\n",
    "    for x in news_table.findAll('tr'):\n",
    "        # Read the text from the tr tag into text\n",
    "        text = x.a.get_text() \n",
    "        # Split the text in the td tag into a list \n",
    "        date_scrape = x.td.text.split()\n",
    "        # If the length of 'date_scrape' is 1, load 'time' as the only element\n",
    "        # If not, load 'date' as the 1st element and 'time' as the second\n",
    "        if len(date_scrape) == 1:\n",
    "            time = date_scrape[0]\n",
    "        else:\n",
    "            date = date_scrape[0]\n",
    "            time = str(date_scrape[1])\n",
    "\n",
    "        # Extract the ticker from the file name, get the string up to the 1st '_'  \n",
    "        ticker = file_name.split('_')[0]\n",
    "        # Append ticker, date, time and headline as a list to the 'parsed_news' list\n",
    "        parsed_news.append([ticker, date, time, text])"
   ]
  },
  {
   "cell_type": "markdown",
   "metadata": {
    "dc": {
     "key": "24"
    },
    "deletable": false,
    "editable": false,
    "run_control": {
     "frozen": true
    },
    "tags": [
     "context"
    ]
   },
   "source": [
    "## 4. Make NLTK think like a financial journalist\n",
    "<p>Sentiment analysis is very sensitive to context. As an example, saying <em>\"This is so addictive!\"</em> often means something positive if the context is a video game you are enjoying with your friends, but it very often means something negative when we are talking about opioids. Remember that the reason we chose headlines is so we can try to extract sentiment from financial journalists, who like most professionals, have their own lingo. Let's now make NLTK think like a financial journalist by adding some new words and sentiment values to our lexicon.</p>"
   ]
  },
  {
   "cell_type": "code",
   "execution_count": 13,
   "metadata": {
    "dc": {
     "key": "24"
    },
    "tags": [
     "sample_code"
    ]
   },
   "outputs": [],
   "source": [
    "# NLTK VADER for sentiment analysis\n",
    "from nltk.sentiment.vader import SentimentIntensityAnalyzer\n",
    "\n",
    "# New words and values\n",
    "new_words = {\n",
    "    'crushes': 10,\n",
    "    'beats': 5,\n",
    "    'misses': -5,\n",
    "    'trouble': -10,\n",
    "    'falls': -100,\n",
    "}\n",
    "# Instantiate the sentiment intensity analyzer with the existing lexicon\n",
    "vader = SentimentIntensityAnalyzer()\n",
    "# Update the lexicon\n",
    "vader.lexicon.update(new_words)"
   ]
  },
  {
   "cell_type": "markdown",
   "metadata": {
    "dc": {
     "key": "31"
    },
    "deletable": false,
    "editable": false,
    "run_control": {
     "frozen": true
    },
    "tags": [
     "context"
    ]
   },
   "source": [
    "## 5. BREAKING NEWS: NLTK Crushes Sentiment Estimates\n",
    "<p>Now that we have the data and the algorithm loaded, we will get to the core of the matter: programmatically predicting sentiment out of news headlines! Luckily for us, VADER is very high level so, in this case, we will not adjust the model further<sup>*</sup> other than the lexicon additions from before.</p>\n",
    "<p><sup>*</sup>VADER \"out-of-the-box\" with some extra lexicon would likely translate into <strong>heavy losses</strong> with real money. A real sentiment analysis tool with chances of being profitable will require a very extensive and dedicated to finance news lexicon. Furthermore, it might also not be enough using a pre-packaged model like VADER.</p>"
   ]
  },
  {
   "cell_type": "code",
   "execution_count": 14,
   "metadata": {
    "dc": {
     "key": "31"
    },
    "tags": [
     "sample_code"
    ]
   },
   "outputs": [
    {
     "name": "stdout",
     "output_type": "stream",
     "text": [
      "<class 'pandas.core.frame.DataFrame'>\n",
      "RangeIndex: 500 entries, 0 to 499\n",
      "Data columns (total 8 columns):\n",
      "ticker      500 non-null object\n",
      "date        500 non-null object\n",
      "time        500 non-null object\n",
      "headline    500 non-null object\n",
      "neg         500 non-null float64\n",
      "neu         500 non-null float64\n",
      "pos         500 non-null float64\n",
      "compound    500 non-null float64\n",
      "dtypes: float64(4), object(4)\n",
      "memory usage: 31.4+ KB\n"
     ]
    },
    {
     "data": {
      "text/html": [
       "<div>\n",
       "<style scoped>\n",
       "    .dataframe tbody tr th:only-of-type {\n",
       "        vertical-align: middle;\n",
       "    }\n",
       "\n",
       "    .dataframe tbody tr th {\n",
       "        vertical-align: top;\n",
       "    }\n",
       "\n",
       "    .dataframe thead th {\n",
       "        text-align: right;\n",
       "    }\n",
       "</style>\n",
       "<table border=\"1\" class=\"dataframe\">\n",
       "  <thead>\n",
       "    <tr style=\"text-align: right;\">\n",
       "      <th></th>\n",
       "      <th>ticker</th>\n",
       "      <th>date</th>\n",
       "      <th>time</th>\n",
       "      <th>headline</th>\n",
       "      <th>neg</th>\n",
       "      <th>neu</th>\n",
       "      <th>pos</th>\n",
       "      <th>compound</th>\n",
       "    </tr>\n",
       "  </thead>\n",
       "  <tbody>\n",
       "    <tr>\n",
       "      <td>0</td>\n",
       "      <td>fb</td>\n",
       "      <td>2019-01-04</td>\n",
       "      <td>06:22PM</td>\n",
       "      <td>Facebook, Apple, Netflix, Amazon and Alphabet ...</td>\n",
       "      <td>0.0</td>\n",
       "      <td>0.631</td>\n",
       "      <td>0.369</td>\n",
       "      <td>0.4767</td>\n",
       "    </tr>\n",
       "    <tr>\n",
       "      <td>1</td>\n",
       "      <td>fb</td>\n",
       "      <td>2019-01-04</td>\n",
       "      <td>05:15PM</td>\n",
       "      <td>Earnings Reports for the Week of Jan. 7-11 (BB...</td>\n",
       "      <td>0.0</td>\n",
       "      <td>1.000</td>\n",
       "      <td>0.000</td>\n",
       "      <td>0.0000</td>\n",
       "    </tr>\n",
       "    <tr>\n",
       "      <td>2</td>\n",
       "      <td>fb</td>\n",
       "      <td>2019-01-04</td>\n",
       "      <td>04:55PM</td>\n",
       "      <td>COLUMN-Commentary: 2019 will be the year of mo...</td>\n",
       "      <td>0.0</td>\n",
       "      <td>1.000</td>\n",
       "      <td>0.000</td>\n",
       "      <td>0.0000</td>\n",
       "    </tr>\n",
       "    <tr>\n",
       "      <td>3</td>\n",
       "      <td>fb</td>\n",
       "      <td>2019-01-04</td>\n",
       "      <td>04:53PM</td>\n",
       "      <td>3 Tech Trends to Watch in 2019</td>\n",
       "      <td>0.0</td>\n",
       "      <td>1.000</td>\n",
       "      <td>0.000</td>\n",
       "      <td>0.0000</td>\n",
       "    </tr>\n",
       "    <tr>\n",
       "      <td>4</td>\n",
       "      <td>fb</td>\n",
       "      <td>2019-01-04</td>\n",
       "      <td>04:30PM</td>\n",
       "      <td>Will Denver's tech growth continue in 2019?</td>\n",
       "      <td>0.0</td>\n",
       "      <td>0.698</td>\n",
       "      <td>0.302</td>\n",
       "      <td>0.3818</td>\n",
       "    </tr>\n",
       "  </tbody>\n",
       "</table>\n",
       "</div>"
      ],
      "text/plain": [
       "  ticker        date     time  \\\n",
       "0     fb  2019-01-04  06:22PM   \n",
       "1     fb  2019-01-04  05:15PM   \n",
       "2     fb  2019-01-04  04:55PM   \n",
       "3     fb  2019-01-04  04:53PM   \n",
       "4     fb  2019-01-04  04:30PM   \n",
       "\n",
       "                                            headline  neg    neu    pos  \\\n",
       "0  Facebook, Apple, Netflix, Amazon and Alphabet ...  0.0  0.631  0.369   \n",
       "1  Earnings Reports for the Week of Jan. 7-11 (BB...  0.0  1.000  0.000   \n",
       "2  COLUMN-Commentary: 2019 will be the year of mo...  0.0  1.000  0.000   \n",
       "3                     3 Tech Trends to Watch in 2019  0.0  1.000  0.000   \n",
       "4        Will Denver's tech growth continue in 2019?  0.0  0.698  0.302   \n",
       "\n",
       "   compound  \n",
       "0    0.4767  \n",
       "1    0.0000  \n",
       "2    0.0000  \n",
       "3    0.0000  \n",
       "4    0.3818  "
      ]
     },
     "execution_count": 14,
     "metadata": {},
     "output_type": "execute_result"
    }
   ],
   "source": [
    "import pandas as pd\n",
    "# Use these column names\n",
    "columns = ['ticker', 'date', 'time', 'headline']\n",
    "# Convert the list of lists into a DataFrame\n",
    "scored_news = pd.DataFrame(parsed_news, columns=columns)\n",
    "# Iterate through the headlines and get the polarity scores\n",
    "scores = [vader.polarity_scores(headline) for headline in scored_news['headline']]\n",
    "# Convert the list of dicts into a DataFrame\n",
    "scores_df = pd.DataFrame(scores)\n",
    "# Join the DataFrames\n",
    "scored_news = scored_news.join(scores_df)\n",
    "# Convert the date column from string to datetime\n",
    "scored_news['date'] = pd.to_datetime(scored_news.date).dt.date\n",
    "scored_news.info()\n",
    "scored_news.head()"
   ]
  },
  {
   "cell_type": "markdown",
   "metadata": {
    "dc": {
     "key": "38"
    },
    "deletable": false,
    "editable": false,
    "run_control": {
     "frozen": true
    },
    "tags": [
     "context"
    ]
   },
   "source": [
    "## 6. Plot all the sentiment in subplots\n",
    "<p>Now that we have the scores, let's start plotting the results. We will start by plotting the time series for the stocks we have.</p>"
   ]
  },
  {
   "cell_type": "code",
   "execution_count": 8,
   "metadata": {
    "dc": {
     "key": "38"
    },
    "tags": [
     "sample_code"
    ]
   },
   "outputs": [
    {
     "data": {
      "text/plain": [
       "<matplotlib.axes._subplots.AxesSubplot at 0x17ea658e148>"
      ]
     },
     "execution_count": 8,
     "metadata": {},
     "output_type": "execute_result"
    },
    {
     "data": {
      "image/png": "[encoded data removed]",
      "text/plain": [
       "<Figure size 432x288 with 1 Axes>"
      ]
     },
     "metadata": {
      "needs_background": "light"
     },
     "output_type": "display_data"
    }
   ],
   "source": [
    "import matplotlib.pyplot as plt\n",
    "plt.style.use(\"fivethirtyeight\")\n",
    "%matplotlib inline\n",
    "\n",
    "# Group by date and ticker columns from scored_news and calculate the mean\n",
    "mean_c = scored_news.groupby(['date', 'ticker']).mean()\n",
    "# Unstack the column ticker\n",
    "mean_c = mean_c.unstack(level=-1)\n",
    "# Get the cross-section of compound in the 'columns' axis\n",
    "mean_c = mean_c['compound']\n",
    "# Plot a bar chart with pandas\n",
    "mean_c.plot.bar()"
   ]
  },
  {
   "cell_type": "markdown",
   "metadata": {
    "dc": {
     "key": "45"
    },
    "deletable": false,
    "editable": false,
    "run_control": {
     "frozen": true
    },
    "tags": [
     "context"
    ]
   },
   "source": [
    "## 7. Weekends and duplicates\n",
    "<p>What happened to Tesla on November 22nd? Since we happen to have the headlines inside our <code>DataFrame</code>, a quick peek reveals that there are a few problems with that particular day: </p>\n",
    "<ul>\n",
    "<li>There are only 5 headlines for that day.</li>\n",
    "<li>Two headlines are verbatim the same as another but from another news outlet.</li>\n",
    "</ul>\n",
    "<p>Let's clean up the dataset a bit, but not too much! While some headlines are the same news piece from different sources, the fact that they are written differently could provide different perspectives on the same story. Plus, when one piece of news is more important, it tends to get more headlines from multiple sources. What we want to get rid of is verbatim copied headlines, as these are very likely coming from the same journalist and are just being \"forwarded\" around, so to speak.</p>"
   ]
  },
  {
   "cell_type": "code",
   "execution_count": 9,
   "metadata": {
    "dc": {
     "key": "45"
    },
    "tags": [
     "sample_code"
    ]
   },
   "outputs": [
    {
     "data": {
      "text/plain": [
       "'Before we had 500 headlines, now we have 476'"
      ]
     },
     "execution_count": 9,
     "metadata": {},
     "output_type": "execute_result"
    }
   ],
   "source": [
    "# Count the number of headlines in scored_news (store as integer)\n",
    "num_news_before = len(scored_news['headline'])\n",
    "# Drop duplicates based on ticker and headline\n",
    "scored_news_clean = scored_news.drop_duplicates(subset=['ticker', 'headline'])\n",
    "# Count number of headlines after dropping duplicates\n",
    "num_news_after = len(scored_news_clean['headline'])\n",
    "# Print before and after numbers to get an idea of how we did \n",
    "f\"Before we had {num_news_before} headlines, now we have {num_news_after}\""
   ]
  },
  {
   "cell_type": "markdown",
   "metadata": {
    "dc": {
     "key": "52"
    },
    "deletable": false,
    "editable": false,
    "run_control": {
     "frozen": true
    },
    "tags": [
     "context"
    ]
   },
   "source": [
    "## 8. Sentiment on one single trading day and stock\n",
    "<p>Just to understand the possibilities of this dataset and get a better feel of the data, let's focus on one trading day and one single stock. We will make an informative plot where we will see the smallest grain possible: headline and subscores.</p>"
   ]
  },
  {
   "cell_type": "code",
   "execution_count": 10,
   "metadata": {
    "dc": {
     "key": "52"
    },
    "tags": [
     "sample_code"
    ]
   },
   "outputs": [
    {
     "data": {
      "text/html": [
       "<div>\n",
       "<style scoped>\n",
       "    .dataframe tbody tr th:only-of-type {\n",
       "        vertical-align: middle;\n",
       "    }\n",
       "\n",
       "    .dataframe tbody tr th {\n",
       "        vertical-align: top;\n",
       "    }\n",
       "\n",
       "    .dataframe thead th {\n",
       "        text-align: right;\n",
       "    }\n",
       "</style>\n",
       "<table border=\"1\" class=\"dataframe\">\n",
       "  <thead>\n",
       "    <tr style=\"text-align: right;\">\n",
       "      <th></th>\n",
       "      <th>headline</th>\n",
       "      <th>neg</th>\n",
       "      <th>neu</th>\n",
       "      <th>pos</th>\n",
       "      <th>compound</th>\n",
       "    </tr>\n",
       "    <tr>\n",
       "      <th>time</th>\n",
       "      <th></th>\n",
       "      <th></th>\n",
       "      <th></th>\n",
       "      <th></th>\n",
       "      <th></th>\n",
       "    </tr>\n",
       "  </thead>\n",
       "  <tbody>\n",
       "    <tr>\n",
       "      <td>06:00:00</td>\n",
       "      <td>Why Internet Censorship Doesnt Work and Never ...</td>\n",
       "      <td>0.000</td>\n",
       "      <td>1.000</td>\n",
       "      <td>0.000</td>\n",
       "      <td>0.0000</td>\n",
       "    </tr>\n",
       "    <tr>\n",
       "      <td>08:04:00</td>\n",
       "      <td>3 Big Stock Charts for Thursday: Medtronic, Fa...</td>\n",
       "      <td>0.000</td>\n",
       "      <td>1.000</td>\n",
       "      <td>0.000</td>\n",
       "      <td>0.0000</td>\n",
       "    </tr>\n",
       "    <tr>\n",
       "      <td>09:07:00</td>\n",
       "      <td>The Zacks Analyst Blog Highlights: Facebook, W...</td>\n",
       "      <td>0.000</td>\n",
       "      <td>0.846</td>\n",
       "      <td>0.154</td>\n",
       "      <td>0.2500</td>\n",
       "    </tr>\n",
       "    <tr>\n",
       "      <td>09:12:00</td>\n",
       "      <td>Why The FAANGs Are Crucial To A 2019 Market Rally</td>\n",
       "      <td>0.000</td>\n",
       "      <td>1.000</td>\n",
       "      <td>0.000</td>\n",
       "      <td>0.0000</td>\n",
       "    </tr>\n",
       "    <tr>\n",
       "      <td>09:34:00</td>\n",
       "      <td>Apple warning stoking fears of slowdown in Chi...</td>\n",
       "      <td>0.426</td>\n",
       "      <td>0.574</td>\n",
       "      <td>0.000</td>\n",
       "      <td>-0.6369</td>\n",
       "    </tr>\n",
       "    <tr>\n",
       "      <td>09:48:00</td>\n",
       "      <td>Stock Market News For Jan 3, 2019</td>\n",
       "      <td>0.000</td>\n",
       "      <td>1.000</td>\n",
       "      <td>0.000</td>\n",
       "      <td>0.0000</td>\n",
       "    </tr>\n",
       "    <tr>\n",
       "      <td>09:58:00</td>\n",
       "      <td>Facebook Falls 3%</td>\n",
       "      <td>0.981</td>\n",
       "      <td>0.019</td>\n",
       "      <td>0.000</td>\n",
       "      <td>-0.9993</td>\n",
       "    </tr>\n",
       "    <tr>\n",
       "      <td>10:08:00</td>\n",
       "      <td>Mark Zuckerberg Halts Stock Sales as Facebook ...</td>\n",
       "      <td>0.000</td>\n",
       "      <td>0.784</td>\n",
       "      <td>0.216</td>\n",
       "      <td>0.2960</td>\n",
       "    </tr>\n",
       "    <tr>\n",
       "      <td>10:21:00</td>\n",
       "      <td>Facebook Under Fire for Collecting Data From A...</td>\n",
       "      <td>0.231</td>\n",
       "      <td>0.769</td>\n",
       "      <td>0.000</td>\n",
       "      <td>-0.3400</td>\n",
       "    </tr>\n",
       "    <tr>\n",
       "      <td>10:42:00</td>\n",
       "      <td>Why Netflix Stock Will Rise Back Above $300 In...</td>\n",
       "      <td>0.000</td>\n",
       "      <td>1.000</td>\n",
       "      <td>0.000</td>\n",
       "      <td>0.0000</td>\n",
       "    </tr>\n",
       "    <tr>\n",
       "      <td>12:25:00</td>\n",
       "      <td>3 Great Reasons You Should Be Bullish on Twili...</td>\n",
       "      <td>0.000</td>\n",
       "      <td>0.661</td>\n",
       "      <td>0.339</td>\n",
       "      <td>0.6249</td>\n",
       "    </tr>\n",
       "    <tr>\n",
       "      <td>13:31:00</td>\n",
       "      <td>Take the Money And Run From Twilio Stock</td>\n",
       "      <td>0.000</td>\n",
       "      <td>1.000</td>\n",
       "      <td>0.000</td>\n",
       "      <td>0.0000</td>\n",
       "    </tr>\n",
       "    <tr>\n",
       "      <td>13:36:00</td>\n",
       "      <td>What's Next For Apple (AAPL) After It Slashed ...</td>\n",
       "      <td>0.147</td>\n",
       "      <td>0.853</td>\n",
       "      <td>0.000</td>\n",
       "      <td>-0.2263</td>\n",
       "    </tr>\n",
       "    <tr>\n",
       "      <td>15:14:00</td>\n",
       "      <td>Zuckerberg Paused His Selling of Facebook Shar...</td>\n",
       "      <td>0.000</td>\n",
       "      <td>0.662</td>\n",
       "      <td>0.338</td>\n",
       "      <td>0.6249</td>\n",
       "    </tr>\n",
       "    <tr>\n",
       "      <td>15:26:00</td>\n",
       "      <td>Is Facebook Stock the Best FANG Stock to Buy?</td>\n",
       "      <td>0.000</td>\n",
       "      <td>0.656</td>\n",
       "      <td>0.344</td>\n",
       "      <td>0.6369</td>\n",
       "    </tr>\n",
       "    <tr>\n",
       "      <td>16:10:00</td>\n",
       "      <td>Google Stock Upgraded, Viewed As 'Most Defensi...</td>\n",
       "      <td>0.000</td>\n",
       "      <td>0.878</td>\n",
       "      <td>0.122</td>\n",
       "      <td>0.1010</td>\n",
       "    </tr>\n",
       "    <tr>\n",
       "      <td>17:24:00</td>\n",
       "      <td>Facebook (FB) Reportedly Testing Dark Mode on ...</td>\n",
       "      <td>0.000</td>\n",
       "      <td>1.000</td>\n",
       "      <td>0.000</td>\n",
       "      <td>0.0000</td>\n",
       "    </tr>\n",
       "    <tr>\n",
       "      <td>17:45:00</td>\n",
       "      <td>Investors Are Focused Too Closely on Facebook ...</td>\n",
       "      <td>0.000</td>\n",
       "      <td>0.652</td>\n",
       "      <td>0.348</td>\n",
       "      <td>0.5859</td>\n",
       "    </tr>\n",
       "    <tr>\n",
       "      <td>22:59:00</td>\n",
       "      <td>[$$] Facebook Begins New Year in Fixer-Upper Mode</td>\n",
       "      <td>0.000</td>\n",
       "      <td>1.000</td>\n",
       "      <td>0.000</td>\n",
       "      <td>0.0000</td>\n",
       "    </tr>\n",
       "  </tbody>\n",
       "</table>\n",
       "</div>"
      ],
      "text/plain": [
       "                                                   headline    neg    neu  \\\n",
       "time                                                                        \n",
       "06:00:00  Why Internet Censorship Doesnt Work and Never ...  0.000  1.000   \n",
       "08:04:00  3 Big Stock Charts for Thursday: Medtronic, Fa...  0.000  1.000   \n",
       "09:07:00  The Zacks Analyst Blog Highlights: Facebook, W...  0.000  0.846   \n",
       "09:12:00  Why The FAANGs Are Crucial To A 2019 Market Rally  0.000  1.000   \n",
       "09:34:00  Apple warning stoking fears of slowdown in Chi...  0.426  0.574   \n",
       "09:48:00                  Stock Market News For Jan 3, 2019  0.000  1.000   \n",
       "09:58:00                                  Facebook Falls 3%  0.981  0.019   \n",
       "10:08:00  Mark Zuckerberg Halts Stock Sales as Facebook ...  0.000  0.784   \n",
       "10:21:00  Facebook Under Fire for Collecting Data From A...  0.231  0.769   \n",
       "10:42:00  Why Netflix Stock Will Rise Back Above $300 In...  0.000  1.000   \n",
       "12:25:00  3 Great Reasons You Should Be Bullish on Twili...  0.000  0.661   \n",
       "13:31:00           Take the Money And Run From Twilio Stock  0.000  1.000   \n",
       "13:36:00  What's Next For Apple (AAPL) After It Slashed ...  0.147  0.853   \n",
       "15:14:00  Zuckerberg Paused His Selling of Facebook Shar...  0.000  0.662   \n",
       "15:26:00      Is Facebook Stock the Best FANG Stock to Buy?  0.000  0.656   \n",
       "16:10:00  Google Stock Upgraded, Viewed As 'Most Defensi...  0.000  0.878   \n",
       "17:24:00  Facebook (FB) Reportedly Testing Dark Mode on ...  0.000  1.000   \n",
       "17:45:00  Investors Are Focused Too Closely on Facebook ...  0.000  0.652   \n",
       "22:59:00  [$$] Facebook Begins New Year in Fixer-Upper Mode  0.000  1.000   \n",
       "\n",
       "            pos  compound  \n",
       "time                       \n",
       "06:00:00  0.000    0.0000  \n",
       "08:04:00  0.000    0.0000  \n",
       "09:07:00  0.154    0.2500  \n",
       "09:12:00  0.000    0.0000  \n",
       "09:34:00  0.000   -0.6369  \n",
       "09:48:00  0.000    0.0000  \n",
       "09:58:00  0.000   -0.9993  \n",
       "10:08:00  0.216    0.2960  \n",
       "10:21:00  0.000   -0.3400  \n",
       "10:42:00  0.000    0.0000  \n",
       "12:25:00  0.339    0.6249  \n",
       "13:31:00  0.000    0.0000  \n",
       "13:36:00  0.000   -0.2263  \n",
       "15:14:00  0.338    0.6249  \n",
       "15:26:00  0.344    0.6369  \n",
       "16:10:00  0.122    0.1010  \n",
       "17:24:00  0.000    0.0000  \n",
       "17:45:00  0.348    0.5859  \n",
       "22:59:00  0.000    0.0000  "
      ]
     },
     "execution_count": 10,
     "metadata": {},
     "output_type": "execute_result"
    }
   ],
   "source": [
    "# Set the index to ticker and date\n",
    "single_day = scored_news_clean.set_index(['ticker', 'date'])\n",
    "# Cross-section the fb row\n",
    "single_day = single_day.loc['fb']\n",
    "# Select the 3rd of January of 2019\n",
    "single_day = single_day.loc['2019-01-03']\n",
    "# Convert the datetime list to just the time\n",
    "single_day['time'] = pd.to_datetime(single_day.time).dt.time\n",
    "# Set the index to time and \n",
    "single_day = single_day.set_index('time')\n",
    "# Sort it\n",
    "single_day = single_day.sort_index()\n",
    "single_day"
   ]
  },
  {
   "cell_type": "markdown",
   "metadata": {
    "dc": {
     "key": "59"
    },
    "deletable": false,
    "editable": false,
    "run_control": {
     "frozen": true
    },
    "tags": [
     "context"
    ]
   },
   "source": [
    "## 9. Visualize the single day\n",
    "<p>We will make a plot to visualize the positive, negative and neutral scores for a single day of trading and a single stock. This is just one of the many ways to visualize this dataset.</p>"
   ]
  },
  {
   "cell_type": "code",
   "execution_count": 11,
   "metadata": {
    "dc": {
     "key": "59"
    },
    "tags": [
     "sample_code"
    ]
   },
   "outputs": [
    {
     "data": {
      "text/plain": [
       "<matplotlib.legend.Legend at 0x17ea6ad4988>"
      ]
     },
     "execution_count": 11,
     "metadata": {},
     "output_type": "execute_result"
    },
    {
     "data": {
      "image/png": "[encoded data removed]",
      "text/plain": [
       "<Figure size 720x432 with 1 Axes>"
      ]
     },
     "metadata": {
      "needs_background": "light"
     },
     "output_type": "display_data"
    }
   ],
   "source": [
    "TITLE = \"Negative, neutral, and positive sentiment for FB on 2019-01-03\"\n",
    "COLORS = [\"red\",\"orange\", \"green\"]\n",
    "# Drop the columns that aren't useful for the plot\n",
    "plot_day = single_day.drop(['compound', 'headline'], axis=1)\n",
    "# Change the column names to 'negative', 'positive', and 'neutral'\n",
    "plot_day.columns = ['negative', 'positive', 'neutral']\n",
    "# Plot a stacked bar chart\n",
    "plot_day.plot.bar(stacked = True, figsize=(10, 6), title = TITLE, \n",
    "                  color = COLORS).legend(bbox_to_anchor=(1.2, 0.5))"
   ]
  }
 ],
 "metadata": {
  "kernelspec": {
   "display_name": "Python 3",
   "language": "python",
   "name": "python3"
  },
  "language_info": {
   "codemirror_mode": {
    "name": "ipython",
    "version": 3
   },
   "file_extension": ".py",
   "mimetype": "text/x-python",
   "name": "python",
   "nbconvert_exporter": "python",
   "pygments_lexer": "ipython3",
   "version": "3.7.4"
  }
 },
 "nbformat": 4,
 "nbformat_minor": 2
}
